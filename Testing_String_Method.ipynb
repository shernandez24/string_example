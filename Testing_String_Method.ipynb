{
 "cells": [
  {
   "cell_type": "code",
   "execution_count": 23,
   "id": "30cc2a44",
   "metadata": {},
   "outputs": [
    {
     "name": "stdout",
     "output_type": "stream",
     "text": [
      "['Hello,', 'my', 'name', 'is', 'Sofia', 'and', 'I', 'study', 'CompLit.']\n"
     ]
    }
   ],
   "source": [
    "example_string = \"Hello, my name is Sofia and I study CompLit.\"\n",
    "def tokenize_string(example_string):\n",
    "    tokens = example_string.split()\n",
    "    return tokens\n",
    "tokens = tokenize_string(example_string)\n",
    "print(tokens)"
   ]
  }
 ],
 "metadata": {
  "kernelspec": {
   "display_name": "Python 3 (ipykernel)",
   "language": "python",
   "name": "python3"
  },
  "language_info": {
   "codemirror_mode": {
    "name": "ipython",
    "version": 3
   },
   "file_extension": ".py",
   "mimetype": "text/x-python",
   "name": "python",
   "nbconvert_exporter": "python",
   "pygments_lexer": "ipython3",
   "version": "3.10.9"
  }
 },
 "nbformat": 4,
 "nbformat_minor": 5
}
